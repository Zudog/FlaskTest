{
 "cells": [
  {
   "cell_type": "markdown",
   "metadata": {
    "collapsed": false
   },
   "source": [
    "# 어플리케이션 셋업 코드\n",
    "\n",
    "    예제로 만들 어플리케이션을 flaskTest라 정하고, flaskTest.py를 만든다."
   ]
  },
  {
   "cell_type": "code",
   "execution_count": null,
   "metadata": {
    "collapsed": false
   },
   "outputs": [
    {
     "name": "stdout",
     "output_type": "stream",
     "text": [
      "Appending to ../flaskTest.py\n"
     ]
    }
   ],
   "source": [
    "%%writefile -a ../flaskTest.py\n",
    "\n",
    "# imports list\n",
    "import sqlite3\n",
    "from flask import Flask, request, session, g, redirect, url_for, abort, render_template, flash\n",
    "\n",
    "# configuration\n",
    "DATABASE = '/tmp/flaskTest.db'\n",
    "DEBUG = True\n",
    "SECRET_KEY = 'development key'\n",
    "USERNAME = 'admin'\n",
    "PASSWORD = 'default'\n",
    "\n",
    "# create our application\n",
    "app = Flask(__name__)\n",
    "app.config.from_object(__name__)\n",
    "\n",
    "# db connection\n",
    "def connect_db():\n",
    "    return sqlite3.connect(app.config['DATABASE'])\n",
    "\n",
    "# run server\n",
    "if __name__ == '__main__' :\n",
    "    app.run()"
   ]
  },
  {
   "cell_type": "markdown",
   "metadata": {
    "collapsed": true
   },
   "source": [
    "# configuration\n",
    "\n",
    "    1. Configuration을 직접 추가하는 것이 가능하지만, \n",
    "       .ini 또는 .py로 분리하여 생성하여 로드하거나 그 파일들로부터 값들을 import 하는 것이 좋다.\n",
    "\n",
    "    2. 위 flaskTest.py의 from_object()대신 from_envvar()를 사용하여 설정값을 불러 올 수 있다.\n",
    "       app.config.from_envvar('FLASKTEST_SETTINGS', silent=True)\n",
    "\n",
    "       FLASKTEST_SETTINGS에 명시된 설정 파일이 로드되면 기본 설정값들 위에 덮어쓰게 된다.\n",
    "       silent는 해당 환경변수가 존재 하지 않아도 Flask가 작동하도록 하는 parameter이다.\n",
    "\n",
    "    3. 클라이언트에서 세션을 안정하게 보장하기 위해서는 SECRET_KEY가 필요하다.\n",
    "\n",
    "    4. DEBUG flag는 인터렉티브 디버그 기능을 활성화(True) 혹은 비활성화(False) 시킨다.\n",
    "       운영되고 있는 서비스에서는 DEBUG Flag는 비활성화 시켜야한다."
   ]
  },
  {
   "cell_type": "markdown",
   "metadata": {},
   "source": [
    "# DataBase\n",
    "\n",
    "    connect_db를 통해서 sqlite3 커넥션을 얻을 수 있다."
   ]
  },
  {
   "cell_type": "markdown",
   "metadata": {},
   "source": [
    "# Run Server\n",
    "\n",
    "    단독 서버로 실행 할 수 있는 서버 실행 코드를 마지막에 넣어준다.\n",
    "    아직 아무런 뷰를 만들지 않았기 때문에, 에러페이지를 볼 수 있다."
   ]
  },
  {
   "cell_type": "code",
   "execution_count": null,
   "metadata": {
    "collapsed": false
   },
   "outputs": [],
   "source": [
    "!python ../flaskTest.py"
   ]
  },
  {
   "cell_type": "code",
   "execution_count": null,
   "metadata": {
    "collapsed": true
   },
   "outputs": [],
   "source": []
  }
 ],
 "metadata": {
  "kernelspec": {
   "display_name": "Python 3",
   "language": "python",
   "name": "python3"
  },
  "language_info": {
   "codemirror_mode": {
    "name": "ipython",
    "version": 3
   },
   "file_extension": ".py",
   "mimetype": "text/x-python",
   "name": "python",
   "nbconvert_exporter": "python",
   "pygments_lexer": "ipython3",
   "version": "3.6.0"
  }
 },
 "nbformat": 4,
 "nbformat_minor": 2
}
