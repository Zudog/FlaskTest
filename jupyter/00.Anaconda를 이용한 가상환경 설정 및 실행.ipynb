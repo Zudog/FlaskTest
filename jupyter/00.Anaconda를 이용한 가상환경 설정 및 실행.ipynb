{
 "cells": [
  {
   "cell_type": "markdown",
   "metadata": {},
   "source": [
    "# Anaconda를 이용한 가상환경 설정 및 실행 ( Mac )\n",
    "\n",
    "<img src='images/Anaconda_Icon.png' width=\"150px\">\n",
    "<br>\n",
    "    Mac환경이라면 위와 같은 아이콘을 선택하여 Anaconda를 실행한다.\n",
    "\n",
    "<img src='images/Anaconda_Screen.png' width=\"100%\"> \n",
    "<br>\n",
    "    왼쪽의 카테고리에서 'Environments'를 선택하고, 하단의 'Create'버튼을 누른다.\n",
    "\n",
    "<img src='images/Anaconda_Create.png'>\n",
    "<br>\n",
    "    위와 같은 팝업에서 원하는 Python버젼을 선택하고, 원하는 가상환경이름을 입력한다.\n",
    "\n",
    "<img src='images/Anaconda_Screen_Start.png' width=\"100%\">  \n",
    "<br>\n",
    "    마지막으로 생성된 가상환경 오른쪽 화살표를 누르고, jupyter notebook을 실행해준다."
   ]
  },
  {
   "cell_type": "code",
   "execution_count": null,
   "metadata": {
    "collapsed": true
   },
   "outputs": [],
   "source": []
  }
 ],
 "metadata": {
  "kernelspec": {
   "display_name": "Python 3",
   "language": "python",
   "name": "python3"
  },
  "language_info": {
   "codemirror_mode": {
    "name": "ipython",
    "version": 3
   },
   "file_extension": ".py",
   "mimetype": "text/x-python",
   "name": "python",
   "nbconvert_exporter": "python",
   "pygments_lexer": "ipython3",
   "version": "3.6.0"
  }
 },
 "nbformat": 4,
 "nbformat_minor": 2
}
