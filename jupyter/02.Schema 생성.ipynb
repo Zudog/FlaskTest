{
 "cells": [
  {
   "cell_type": "markdown",
   "metadata": {
    "collapsed": false
   },
   "source": [
    "# Schema 생성\n",
    "\n",
    "    이 예제에서는 sqlite를 사용.\n",
    "    schema.sql이라는 이름으로 파일 생성."
   ]
  },
  {
   "cell_type": "code",
   "execution_count": 16,
   "metadata": {
    "collapsed": false
   },
   "outputs": [
    {
     "name": "stdout",
     "output_type": "stream",
     "text": [
      "Appending to ../schema.sql\n"
     ]
    }
   ],
   "source": [
    "%%writefile -a ../schema.sql\n",
    "\n",
    "drop table if exists entries;\n",
    "create table entries (\n",
    "    id integer primary key autoincrement,\n",
    "    title string not null,\n",
    "    text string not null\n",
    ");"
   ]
  },
  {
   "cell_type": "markdown",
   "metadata": {
    "collapsed": true
   },
   "source": [
    "    해당 스키마는 entries라는 이름의 테이블로 만들어짐.\n",
    "    각 row에는 id, title, text colume으로 구성되어 있다.\n",
    "     id : 자동으로 증가하는 정수이며, primary key.\n",
    "     title : null이 아닌 문자열.\n",
    "     text : null이 아닌 문자열."
   ]
  }
 ],
 "metadata": {
  "kernelspec": {
   "display_name": "Python 3",
   "language": "python",
   "name": "python3"
  },
  "language_info": {
   "codemirror_mode": {
    "name": "ipython",
    "version": 3
   },
   "file_extension": ".py",
   "mimetype": "text/x-python",
   "name": "python",
   "nbconvert_exporter": "python",
   "pygments_lexer": "ipython3",
   "version": "3.6.0"
  }
 },
 "nbformat": 4,
 "nbformat_minor": 2
}
